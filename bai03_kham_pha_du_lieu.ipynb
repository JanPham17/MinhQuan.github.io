import numpy as np
# Tải tập dữ liệu Ames
import pandas as pd
Ames = pd.read_csv('../data/Ames.csv')
Ames
